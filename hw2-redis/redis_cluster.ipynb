{
 "cells": [
  {
   "cell_type": "code",
   "execution_count": 15,
   "id": "69291358",
   "metadata": {},
   "outputs": [],
   "source": [
    "from redis.cluster import RedisCluster, ClusterNode\n",
    "import redis\n",
    "import json"
   ]
  },
  {
   "cell_type": "code",
   "execution_count": 16,
   "metadata": {},
   "outputs": [],
   "source": [
    "startup_nodes = [ClusterNode(\"localhost\", \"9000\"), ClusterNode(\"localhost\", \"9001\"), ClusterNode(\"localhost\", \"9002\"), ClusterNode(\"localhost\", \"9003\"), ClusterNode(\"localhost\", \"9004\"), ClusterNode(\"localhost\", \"9005\"),]"
   ]
  },
  {
   "cell_type": "code",
   "execution_count": 17,
   "metadata": {},
   "outputs": [
    {
     "ename": "ConnectionError",
     "evalue": "Connection closed by server.",
     "output_type": "error",
     "traceback": [
      "\u001b[0;31m---------------------------------------------------------------------------\u001b[0m",
      "\u001b[0;31mConnectionError\u001b[0m                           Traceback (most recent call last)",
      "\u001b[1;32m/Users/agarkov/sbt-db/hw2-redis/redis_cluster.ipynb Cell 3\u001b[0m line \u001b[0;36m1\n\u001b[0;32m----> <a href='vscode-notebook-cell:/Users/agarkov/sbt-db/hw2-redis/redis_cluster.ipynb#W3sZmlsZQ%3D%3D?line=0'>1</a>\u001b[0m rc \u001b[39m=\u001b[39m RedisCluster(startup_nodes\u001b[39m=\u001b[39;49mstartup_nodes, decode_responses\u001b[39m=\u001b[39;49m\u001b[39mTrue\u001b[39;49;00m)\n",
      "File \u001b[0;32m~/Library/Python/3.9/lib/python/site-packages/redis/cluster.py:645\u001b[0m, in \u001b[0;36mRedisCluster.__init__\u001b[0;34m(self, host, port, startup_nodes, cluster_error_retry_attempts, retry, require_full_coverage, reinitialize_steps, read_from_replicas, dynamic_startup_nodes, url, address_remap, **kwargs)\u001b[0m\n\u001b[1;32m    641\u001b[0m \u001b[39mself\u001b[39m\u001b[39m.\u001b[39mcluster_response_callbacks \u001b[39m=\u001b[39m CaseInsensitiveDict(\n\u001b[1;32m    642\u001b[0m     \u001b[39mself\u001b[39m\u001b[39m.\u001b[39m\u001b[39m__class__\u001b[39m\u001b[39m.\u001b[39mCLUSTER_COMMANDS_RESPONSE_CALLBACKS\n\u001b[1;32m    643\u001b[0m )\n\u001b[1;32m    644\u001b[0m \u001b[39mself\u001b[39m\u001b[39m.\u001b[39mresult_callbacks \u001b[39m=\u001b[39m CaseInsensitiveDict(\u001b[39mself\u001b[39m\u001b[39m.\u001b[39m\u001b[39m__class__\u001b[39m\u001b[39m.\u001b[39mRESULT_CALLBACKS)\n\u001b[0;32m--> 645\u001b[0m \u001b[39mself\u001b[39m\u001b[39m.\u001b[39mcommands_parser \u001b[39m=\u001b[39m CommandsParser(\u001b[39mself\u001b[39;49m)\n\u001b[1;32m    646\u001b[0m \u001b[39mself\u001b[39m\u001b[39m.\u001b[39m_lock \u001b[39m=\u001b[39m threading\u001b[39m.\u001b[39mLock()\n",
      "File \u001b[0;32m~/Library/Python/3.9/lib/python/site-packages/redis/_parsers/commands.py:67\u001b[0m, in \u001b[0;36mCommandsParser.__init__\u001b[0;34m(self, redis_connection)\u001b[0m\n\u001b[1;32m     65\u001b[0m \u001b[39mdef\u001b[39;00m \u001b[39m__init__\u001b[39m(\u001b[39mself\u001b[39m, redis_connection):\n\u001b[1;32m     66\u001b[0m     \u001b[39mself\u001b[39m\u001b[39m.\u001b[39mcommands \u001b[39m=\u001b[39m {}\n\u001b[0;32m---> 67\u001b[0m     \u001b[39mself\u001b[39;49m\u001b[39m.\u001b[39;49minitialize(redis_connection)\n",
      "File \u001b[0;32m~/Library/Python/3.9/lib/python/site-packages/redis/_parsers/commands.py:70\u001b[0m, in \u001b[0;36mCommandsParser.initialize\u001b[0;34m(self, r)\u001b[0m\n\u001b[1;32m     69\u001b[0m \u001b[39mdef\u001b[39;00m \u001b[39minitialize\u001b[39m(\u001b[39mself\u001b[39m, r):\n\u001b[0;32m---> 70\u001b[0m     commands \u001b[39m=\u001b[39m r\u001b[39m.\u001b[39;49mcommand()\n\u001b[1;32m     71\u001b[0m     uppercase_commands \u001b[39m=\u001b[39m []\n\u001b[1;32m     72\u001b[0m     \u001b[39mfor\u001b[39;00m cmd \u001b[39min\u001b[39;00m commands:\n",
      "File \u001b[0;32m~/Library/Python/3.9/lib/python/site-packages/redis/commands/core.py:793\u001b[0m, in \u001b[0;36mManagementCommands.command\u001b[0;34m(self, **kwargs)\u001b[0m\n\u001b[1;32m    787\u001b[0m \u001b[39mdef\u001b[39;00m \u001b[39mcommand\u001b[39m(\u001b[39mself\u001b[39m, \u001b[39m*\u001b[39m\u001b[39m*\u001b[39mkwargs):\n\u001b[1;32m    788\u001b[0m \u001b[39m    \u001b[39m\u001b[39m\"\"\"\u001b[39;00m\n\u001b[1;32m    789\u001b[0m \u001b[39m    Returns dict reply of details about all Redis commands.\u001b[39;00m\n\u001b[1;32m    790\u001b[0m \n\u001b[1;32m    791\u001b[0m \u001b[39m    For more information see https://redis.io/commands/command\u001b[39;00m\n\u001b[1;32m    792\u001b[0m \u001b[39m    \"\"\"\u001b[39;00m\n\u001b[0;32m--> 793\u001b[0m     \u001b[39mreturn\u001b[39;00m \u001b[39mself\u001b[39;49m\u001b[39m.\u001b[39;49mexecute_command(\u001b[39m\"\u001b[39;49m\u001b[39mCOMMAND\u001b[39;49m\u001b[39m\"\u001b[39;49m, \u001b[39m*\u001b[39;49m\u001b[39m*\u001b[39;49mkwargs)\n",
      "File \u001b[0;32m~/Library/Python/3.9/lib/python/site-packages/redis/cluster.py:1115\u001b[0m, in \u001b[0;36mRedisCluster.execute_command\u001b[0;34m(self, *args, **kwargs)\u001b[0m\n\u001b[1;32m   1112\u001b[0m     \u001b[39mcontinue\u001b[39;00m\n\u001b[1;32m   1113\u001b[0m \u001b[39melse\u001b[39;00m:\n\u001b[1;32m   1114\u001b[0m     \u001b[39m# raise the exception\u001b[39;00m\n\u001b[0;32m-> 1115\u001b[0m     \u001b[39mraise\u001b[39;00m e\n",
      "File \u001b[0;32m~/Library/Python/3.9/lib/python/site-packages/redis/cluster.py:1101\u001b[0m, in \u001b[0;36mRedisCluster.execute_command\u001b[0;34m(self, *args, **kwargs)\u001b[0m\n\u001b[1;32m   1099\u001b[0m         is_default_node \u001b[39m=\u001b[39m \u001b[39mTrue\u001b[39;00m\n\u001b[1;32m   1100\u001b[0m \u001b[39mfor\u001b[39;00m node \u001b[39min\u001b[39;00m target_nodes:\n\u001b[0;32m-> 1101\u001b[0m     res[node\u001b[39m.\u001b[39mname] \u001b[39m=\u001b[39m \u001b[39mself\u001b[39;49m\u001b[39m.\u001b[39;49m_execute_command(node, \u001b[39m*\u001b[39;49margs, \u001b[39m*\u001b[39;49m\u001b[39m*\u001b[39;49mkwargs)\n\u001b[1;32m   1102\u001b[0m \u001b[39m# Return the processed result\u001b[39;00m\n\u001b[1;32m   1103\u001b[0m \u001b[39mreturn\u001b[39;00m \u001b[39mself\u001b[39m\u001b[39m.\u001b[39m_process_result(args[\u001b[39m0\u001b[39m], res, \u001b[39m*\u001b[39m\u001b[39m*\u001b[39mkwargs)\n",
      "File \u001b[0;32m~/Library/Python/3.9/lib/python/site-packages/redis/cluster.py:1174\u001b[0m, in \u001b[0;36mRedisCluster._execute_command\u001b[0;34m(self, target_node, *args, **kwargs)\u001b[0m\n\u001b[1;32m   1172\u001b[0m     target_node\u001b[39m.\u001b[39mredis_connection \u001b[39m=\u001b[39m \u001b[39mNone\u001b[39;00m\n\u001b[1;32m   1173\u001b[0m     \u001b[39mself\u001b[39m\u001b[39m.\u001b[39mnodes_manager\u001b[39m.\u001b[39minitialize()\n\u001b[0;32m-> 1174\u001b[0m     \u001b[39mraise\u001b[39;00m e\n\u001b[1;32m   1175\u001b[0m \u001b[39mexcept\u001b[39;00m MovedError \u001b[39mas\u001b[39;00m e:\n\u001b[1;32m   1176\u001b[0m     \u001b[39m# First, we will try to patch the slots/nodes cache with the\u001b[39;00m\n\u001b[1;32m   1177\u001b[0m     \u001b[39m# redirected node output and try again. If MovedError exceeds\u001b[39;00m\n\u001b[0;32m   (...)\u001b[0m\n\u001b[1;32m   1182\u001b[0m     \u001b[39m# reduce the frequency you can set this variable in the\u001b[39;00m\n\u001b[1;32m   1183\u001b[0m     \u001b[39m# RedisCluster constructor.\u001b[39;00m\n\u001b[1;32m   1184\u001b[0m     \u001b[39mself\u001b[39m\u001b[39m.\u001b[39mreinitialize_counter \u001b[39m+\u001b[39m\u001b[39m=\u001b[39m \u001b[39m1\u001b[39m\n",
      "File \u001b[0;32m~/Library/Python/3.9/lib/python/site-packages/redis/cluster.py:1144\u001b[0m, in \u001b[0;36mRedisCluster._execute_command\u001b[0;34m(self, target_node, *args, **kwargs)\u001b[0m\n\u001b[1;32m   1141\u001b[0m     moved \u001b[39m=\u001b[39m \u001b[39mFalse\u001b[39;00m\n\u001b[1;32m   1143\u001b[0m redis_node \u001b[39m=\u001b[39m \u001b[39mself\u001b[39m\u001b[39m.\u001b[39mget_redis_connection(target_node)\n\u001b[0;32m-> 1144\u001b[0m connection \u001b[39m=\u001b[39m get_connection(redis_node, \u001b[39m*\u001b[39;49margs, \u001b[39m*\u001b[39;49m\u001b[39m*\u001b[39;49mkwargs)\n\u001b[1;32m   1145\u001b[0m \u001b[39mif\u001b[39;00m asking:\n\u001b[1;32m   1146\u001b[0m     connection\u001b[39m.\u001b[39msend_command(\u001b[39m\"\u001b[39m\u001b[39mASKING\u001b[39m\u001b[39m\"\u001b[39m)\n",
      "File \u001b[0;32m~/Library/Python/3.9/lib/python/site-packages/redis/cluster.py:51\u001b[0m, in \u001b[0;36mget_connection\u001b[0;34m(redis_node, *args, **options)\u001b[0m\n\u001b[1;32m     50\u001b[0m \u001b[39mdef\u001b[39;00m \u001b[39mget_connection\u001b[39m(redis_node, \u001b[39m*\u001b[39margs, \u001b[39m*\u001b[39m\u001b[39m*\u001b[39moptions):\n\u001b[0;32m---> 51\u001b[0m     \u001b[39mreturn\u001b[39;00m redis_node\u001b[39m.\u001b[39mconnection \u001b[39mor\u001b[39;00m redis_node\u001b[39m.\u001b[39;49mconnection_pool\u001b[39m.\u001b[39;49mget_connection(\n\u001b[1;32m     52\u001b[0m         args[\u001b[39m0\u001b[39;49m], \u001b[39m*\u001b[39;49m\u001b[39m*\u001b[39;49moptions\n\u001b[1;32m     53\u001b[0m     )\n",
      "File \u001b[0;32m~/Library/Python/3.9/lib/python/site-packages/redis/connection.py:1104\u001b[0m, in \u001b[0;36mConnectionPool.get_connection\u001b[0;34m(self, command_name, *keys, **options)\u001b[0m\n\u001b[1;32m   1100\u001b[0m     \u001b[39mself\u001b[39m\u001b[39m.\u001b[39m_in_use_connections\u001b[39m.\u001b[39madd(connection)\n\u001b[1;32m   1102\u001b[0m \u001b[39mtry\u001b[39;00m:\n\u001b[1;32m   1103\u001b[0m     \u001b[39m# ensure this connection is connected to Redis\u001b[39;00m\n\u001b[0;32m-> 1104\u001b[0m     connection\u001b[39m.\u001b[39;49mconnect()\n\u001b[1;32m   1105\u001b[0m     \u001b[39m# connections that the pool provides should be ready to send\u001b[39;00m\n\u001b[1;32m   1106\u001b[0m     \u001b[39m# a command. if not, the connection was either returned to the\u001b[39;00m\n\u001b[1;32m   1107\u001b[0m     \u001b[39m# pool before all data has been read or the socket has been\u001b[39;00m\n\u001b[1;32m   1108\u001b[0m     \u001b[39m# closed. either way, reconnect and verify everything is good.\u001b[39;00m\n\u001b[1;32m   1109\u001b[0m     \u001b[39mtry\u001b[39;00m:\n",
      "File \u001b[0;32m~/Library/Python/3.9/lib/python/site-packages/redis/connection.py:291\u001b[0m, in \u001b[0;36mAbstractConnection.connect\u001b[0;34m(self)\u001b[0m\n\u001b[1;32m    288\u001b[0m         \u001b[39mself\u001b[39m\u001b[39m.\u001b[39mon_connect()\n\u001b[1;32m    289\u001b[0m     \u001b[39melse\u001b[39;00m:\n\u001b[1;32m    290\u001b[0m         \u001b[39m# Use the passed function redis_connect_func\u001b[39;00m\n\u001b[0;32m--> 291\u001b[0m         \u001b[39mself\u001b[39;49m\u001b[39m.\u001b[39;49mredis_connect_func(\u001b[39mself\u001b[39;49m)\n\u001b[1;32m    292\u001b[0m \u001b[39mexcept\u001b[39;00m RedisError:\n\u001b[1;32m    293\u001b[0m     \u001b[39m# clean up after any error in on_connect\u001b[39;00m\n\u001b[1;32m    294\u001b[0m     \u001b[39mself\u001b[39m\u001b[39m.\u001b[39mdisconnect()\n",
      "File \u001b[0;32m~/Library/Python/3.9/lib/python/site-packages/redis/cluster.py:672\u001b[0m, in \u001b[0;36mRedisCluster.on_connect\u001b[0;34m(self, connection)\u001b[0m\n\u001b[1;32m    667\u001b[0m \u001b[39m\u001b[39m\u001b[39m\"\"\"\u001b[39;00m\n\u001b[1;32m    668\u001b[0m \u001b[39mInitialize the connection, authenticate and select a database and send\u001b[39;00m\n\u001b[1;32m    669\u001b[0m \u001b[39m READONLY if it is set during object initialization.\u001b[39;00m\n\u001b[1;32m    670\u001b[0m \u001b[39m\"\"\"\u001b[39;00m\n\u001b[1;32m    671\u001b[0m connection\u001b[39m.\u001b[39mset_parser(ClusterParser)\n\u001b[0;32m--> 672\u001b[0m connection\u001b[39m.\u001b[39;49mon_connect()\n\u001b[1;32m    674\u001b[0m \u001b[39mif\u001b[39;00m \u001b[39mself\u001b[39m\u001b[39m.\u001b[39mread_from_replicas:\n\u001b[1;32m    675\u001b[0m     \u001b[39m# Sending READONLY command to server to configure connection as\u001b[39;00m\n\u001b[1;32m    676\u001b[0m     \u001b[39m# readonly. Since each cluster node may change its server type due\u001b[39;00m\n\u001b[1;32m    677\u001b[0m     \u001b[39m# to a failover, we should establish a READONLY connection\u001b[39;00m\n\u001b[1;32m    678\u001b[0m     \u001b[39m# regardless of the server type. If this is a primary connection,\u001b[39;00m\n\u001b[1;32m    679\u001b[0m     \u001b[39m# READONLY would not affect executing write commands.\u001b[39;00m\n\u001b[1;32m    680\u001b[0m     connection\u001b[39m.\u001b[39msend_command(\u001b[39m\"\u001b[39m\u001b[39mREADONLY\u001b[39m\u001b[39m\"\u001b[39m)\n",
      "File \u001b[0;32m~/Library/Python/3.9/lib/python/site-packages/redis/connection.py:391\u001b[0m, in \u001b[0;36mAbstractConnection.on_connect\u001b[0;34m(self)\u001b[0m\n\u001b[1;32m    389\u001b[0m     \u001b[39mif\u001b[39;00m \u001b[39mself\u001b[39m\u001b[39m.\u001b[39mlib_name:\n\u001b[1;32m    390\u001b[0m         \u001b[39mself\u001b[39m\u001b[39m.\u001b[39msend_command(\u001b[39m\"\u001b[39m\u001b[39mCLIENT\u001b[39m\u001b[39m\"\u001b[39m, \u001b[39m\"\u001b[39m\u001b[39mSETINFO\u001b[39m\u001b[39m\"\u001b[39m, \u001b[39m\"\u001b[39m\u001b[39mLIB-NAME\u001b[39m\u001b[39m\"\u001b[39m, \u001b[39mself\u001b[39m\u001b[39m.\u001b[39mlib_name)\n\u001b[0;32m--> 391\u001b[0m         \u001b[39mself\u001b[39;49m\u001b[39m.\u001b[39;49mread_response()\n\u001b[1;32m    392\u001b[0m \u001b[39mexcept\u001b[39;00m ResponseError:\n\u001b[1;32m    393\u001b[0m     \u001b[39mpass\u001b[39;00m\n",
      "File \u001b[0;32m~/Library/Python/3.9/lib/python/site-packages/redis/connection.py:512\u001b[0m, in \u001b[0;36mAbstractConnection.read_response\u001b[0;34m(self, disable_decoding, disconnect_on_error, push_request)\u001b[0m\n\u001b[1;32m    508\u001b[0m         response \u001b[39m=\u001b[39m \u001b[39mself\u001b[39m\u001b[39m.\u001b[39m_parser\u001b[39m.\u001b[39mread_response(\n\u001b[1;32m    509\u001b[0m             disable_decoding\u001b[39m=\u001b[39mdisable_decoding, push_request\u001b[39m=\u001b[39mpush_request\n\u001b[1;32m    510\u001b[0m         )\n\u001b[1;32m    511\u001b[0m     \u001b[39melse\u001b[39;00m:\n\u001b[0;32m--> 512\u001b[0m         response \u001b[39m=\u001b[39m \u001b[39mself\u001b[39;49m\u001b[39m.\u001b[39;49m_parser\u001b[39m.\u001b[39;49mread_response(disable_decoding\u001b[39m=\u001b[39;49mdisable_decoding)\n\u001b[1;32m    513\u001b[0m \u001b[39mexcept\u001b[39;00m socket\u001b[39m.\u001b[39mtimeout:\n\u001b[1;32m    514\u001b[0m     \u001b[39mif\u001b[39;00m disconnect_on_error:\n",
      "File \u001b[0;32m~/Library/Python/3.9/lib/python/site-packages/redis/_parsers/resp2.py:15\u001b[0m, in \u001b[0;36m_RESP2Parser.read_response\u001b[0;34m(self, disable_decoding)\u001b[0m\n\u001b[1;32m     13\u001b[0m pos \u001b[39m=\u001b[39m \u001b[39mself\u001b[39m\u001b[39m.\u001b[39m_buffer\u001b[39m.\u001b[39mget_pos() \u001b[39mif\u001b[39;00m \u001b[39mself\u001b[39m\u001b[39m.\u001b[39m_buffer \u001b[39melse\u001b[39;00m \u001b[39mNone\u001b[39;00m\n\u001b[1;32m     14\u001b[0m \u001b[39mtry\u001b[39;00m:\n\u001b[0;32m---> 15\u001b[0m     result \u001b[39m=\u001b[39m \u001b[39mself\u001b[39;49m\u001b[39m.\u001b[39;49m_read_response(disable_decoding\u001b[39m=\u001b[39;49mdisable_decoding)\n\u001b[1;32m     16\u001b[0m \u001b[39mexcept\u001b[39;00m \u001b[39mBaseException\u001b[39;00m:\n\u001b[1;32m     17\u001b[0m     \u001b[39mif\u001b[39;00m \u001b[39mself\u001b[39m\u001b[39m.\u001b[39m_buffer:\n",
      "File \u001b[0;32m~/Library/Python/3.9/lib/python/site-packages/redis/_parsers/resp2.py:25\u001b[0m, in \u001b[0;36m_RESP2Parser._read_response\u001b[0;34m(self, disable_decoding)\u001b[0m\n\u001b[1;32m     24\u001b[0m \u001b[39mdef\u001b[39;00m \u001b[39m_read_response\u001b[39m(\u001b[39mself\u001b[39m, disable_decoding\u001b[39m=\u001b[39m\u001b[39mFalse\u001b[39;00m):\n\u001b[0;32m---> 25\u001b[0m     raw \u001b[39m=\u001b[39m \u001b[39mself\u001b[39;49m\u001b[39m.\u001b[39;49m_buffer\u001b[39m.\u001b[39;49mreadline()\n\u001b[1;32m     26\u001b[0m     \u001b[39mif\u001b[39;00m \u001b[39mnot\u001b[39;00m raw:\n\u001b[1;32m     27\u001b[0m         \u001b[39mraise\u001b[39;00m \u001b[39mConnectionError\u001b[39;00m(SERVER_CLOSED_CONNECTION_ERROR)\n",
      "File \u001b[0;32m~/Library/Python/3.9/lib/python/site-packages/redis/_parsers/socket.py:115\u001b[0m, in \u001b[0;36mSocketBuffer.readline\u001b[0;34m(self)\u001b[0m\n\u001b[1;32m    112\u001b[0m data \u001b[39m=\u001b[39m buf\u001b[39m.\u001b[39mreadline()\n\u001b[1;32m    113\u001b[0m \u001b[39mwhile\u001b[39;00m \u001b[39mnot\u001b[39;00m data\u001b[39m.\u001b[39mendswith(SYM_CRLF):\n\u001b[1;32m    114\u001b[0m     \u001b[39m# there's more data in the socket that we need\u001b[39;00m\n\u001b[0;32m--> 115\u001b[0m     \u001b[39mself\u001b[39;49m\u001b[39m.\u001b[39;49m_read_from_socket()\n\u001b[1;32m    116\u001b[0m     data \u001b[39m+\u001b[39m\u001b[39m=\u001b[39m buf\u001b[39m.\u001b[39mreadline()\n\u001b[1;32m    118\u001b[0m \u001b[39mreturn\u001b[39;00m data[:\u001b[39m-\u001b[39m\u001b[39m2\u001b[39m]\n",
      "File \u001b[0;32m~/Library/Python/3.9/lib/python/site-packages/redis/_parsers/socket.py:68\u001b[0m, in \u001b[0;36mSocketBuffer._read_from_socket\u001b[0;34m(self, length, timeout, raise_on_timeout)\u001b[0m\n\u001b[1;32m     66\u001b[0m \u001b[39m# an empty string indicates the server shutdown the socket\u001b[39;00m\n\u001b[1;32m     67\u001b[0m \u001b[39mif\u001b[39;00m \u001b[39misinstance\u001b[39m(data, \u001b[39mbytes\u001b[39m) \u001b[39mand\u001b[39;00m \u001b[39mlen\u001b[39m(data) \u001b[39m==\u001b[39m \u001b[39m0\u001b[39m:\n\u001b[0;32m---> 68\u001b[0m     \u001b[39mraise\u001b[39;00m \u001b[39mConnectionError\u001b[39;00m(SERVER_CLOSED_CONNECTION_ERROR)\n\u001b[1;32m     69\u001b[0m buf\u001b[39m.\u001b[39mwrite(data)\n\u001b[1;32m     70\u001b[0m data_length \u001b[39m=\u001b[39m \u001b[39mlen\u001b[39m(data)\n",
      "\u001b[0;31mConnectionError\u001b[0m: Connection closed by server."
     ]
    }
   ],
   "source": [
    "rc = RedisCluster(startup_nodes=startup_nodes, decode_responses=True)"
   ]
  },
  {
   "cell_type": "code",
   "execution_count": 28,
   "metadata": {},
   "outputs": [
    {
     "ename": "ConnectionError",
     "evalue": "Connection closed by server.",
     "output_type": "error",
     "traceback": [
      "\u001b[0;31m---------------------------------------------------------------------------\u001b[0m",
      "\u001b[0;31mConnectionError\u001b[0m                           Traceback (most recent call last)",
      "\u001b[1;32m/Users/agarkov/sbt-db/hw2-redis/redis_cluster.ipynb Cell 4\u001b[0m line \u001b[0;36m1\n\u001b[0;32m----> <a href='vscode-notebook-cell:/Users/agarkov/sbt-db/hw2-redis/redis_cluster.ipynb#X15sZmlsZQ%3D%3D?line=0'>1</a>\u001b[0m rc \u001b[39m=\u001b[39m RedisCluster(host\u001b[39m=\u001b[39;49m\u001b[39m\"\u001b[39;49m\u001b[39mlocalhost\u001b[39;49m\u001b[39m\"\u001b[39;49m, port\u001b[39m=\u001b[39;49m\u001b[39m9000\u001b[39;49m, username\u001b[39m=\u001b[39;49m\u001b[39m\"\u001b[39;49m\u001b[39mdefault\u001b[39;49m\u001b[39m\"\u001b[39;49m, password\u001b[39m=\u001b[39;49m\u001b[39m\"\u001b[39;49m\u001b[39madmin\u001b[39;49m\u001b[39m\"\u001b[39;49m)\n",
      "File \u001b[0;32m~/Library/Python/3.9/lib/python/site-packages/redis/cluster.py:645\u001b[0m, in \u001b[0;36mRedisCluster.__init__\u001b[0;34m(self, host, port, startup_nodes, cluster_error_retry_attempts, retry, require_full_coverage, reinitialize_steps, read_from_replicas, dynamic_startup_nodes, url, address_remap, **kwargs)\u001b[0m\n\u001b[1;32m    641\u001b[0m \u001b[39mself\u001b[39m\u001b[39m.\u001b[39mcluster_response_callbacks \u001b[39m=\u001b[39m CaseInsensitiveDict(\n\u001b[1;32m    642\u001b[0m     \u001b[39mself\u001b[39m\u001b[39m.\u001b[39m\u001b[39m__class__\u001b[39m\u001b[39m.\u001b[39mCLUSTER_COMMANDS_RESPONSE_CALLBACKS\n\u001b[1;32m    643\u001b[0m )\n\u001b[1;32m    644\u001b[0m \u001b[39mself\u001b[39m\u001b[39m.\u001b[39mresult_callbacks \u001b[39m=\u001b[39m CaseInsensitiveDict(\u001b[39mself\u001b[39m\u001b[39m.\u001b[39m\u001b[39m__class__\u001b[39m\u001b[39m.\u001b[39mRESULT_CALLBACKS)\n\u001b[0;32m--> 645\u001b[0m \u001b[39mself\u001b[39m\u001b[39m.\u001b[39mcommands_parser \u001b[39m=\u001b[39m CommandsParser(\u001b[39mself\u001b[39;49m)\n\u001b[1;32m    646\u001b[0m \u001b[39mself\u001b[39m\u001b[39m.\u001b[39m_lock \u001b[39m=\u001b[39m threading\u001b[39m.\u001b[39mLock()\n",
      "File \u001b[0;32m~/Library/Python/3.9/lib/python/site-packages/redis/_parsers/commands.py:67\u001b[0m, in \u001b[0;36mCommandsParser.__init__\u001b[0;34m(self, redis_connection)\u001b[0m\n\u001b[1;32m     65\u001b[0m \u001b[39mdef\u001b[39;00m \u001b[39m__init__\u001b[39m(\u001b[39mself\u001b[39m, redis_connection):\n\u001b[1;32m     66\u001b[0m     \u001b[39mself\u001b[39m\u001b[39m.\u001b[39mcommands \u001b[39m=\u001b[39m {}\n\u001b[0;32m---> 67\u001b[0m     \u001b[39mself\u001b[39;49m\u001b[39m.\u001b[39;49minitialize(redis_connection)\n",
      "File \u001b[0;32m~/Library/Python/3.9/lib/python/site-packages/redis/_parsers/commands.py:70\u001b[0m, in \u001b[0;36mCommandsParser.initialize\u001b[0;34m(self, r)\u001b[0m\n\u001b[1;32m     69\u001b[0m \u001b[39mdef\u001b[39;00m \u001b[39minitialize\u001b[39m(\u001b[39mself\u001b[39m, r):\n\u001b[0;32m---> 70\u001b[0m     commands \u001b[39m=\u001b[39m r\u001b[39m.\u001b[39;49mcommand()\n\u001b[1;32m     71\u001b[0m     uppercase_commands \u001b[39m=\u001b[39m []\n\u001b[1;32m     72\u001b[0m     \u001b[39mfor\u001b[39;00m cmd \u001b[39min\u001b[39;00m commands:\n",
      "File \u001b[0;32m~/Library/Python/3.9/lib/python/site-packages/redis/commands/core.py:793\u001b[0m, in \u001b[0;36mManagementCommands.command\u001b[0;34m(self, **kwargs)\u001b[0m\n\u001b[1;32m    787\u001b[0m \u001b[39mdef\u001b[39;00m \u001b[39mcommand\u001b[39m(\u001b[39mself\u001b[39m, \u001b[39m*\u001b[39m\u001b[39m*\u001b[39mkwargs):\n\u001b[1;32m    788\u001b[0m \u001b[39m    \u001b[39m\u001b[39m\"\"\"\u001b[39;00m\n\u001b[1;32m    789\u001b[0m \u001b[39m    Returns dict reply of details about all Redis commands.\u001b[39;00m\n\u001b[1;32m    790\u001b[0m \n\u001b[1;32m    791\u001b[0m \u001b[39m    For more information see https://redis.io/commands/command\u001b[39;00m\n\u001b[1;32m    792\u001b[0m \u001b[39m    \"\"\"\u001b[39;00m\n\u001b[0;32m--> 793\u001b[0m     \u001b[39mreturn\u001b[39;00m \u001b[39mself\u001b[39;49m\u001b[39m.\u001b[39;49mexecute_command(\u001b[39m\"\u001b[39;49m\u001b[39mCOMMAND\u001b[39;49m\u001b[39m\"\u001b[39;49m, \u001b[39m*\u001b[39;49m\u001b[39m*\u001b[39;49mkwargs)\n",
      "File \u001b[0;32m~/Library/Python/3.9/lib/python/site-packages/redis/cluster.py:1115\u001b[0m, in \u001b[0;36mRedisCluster.execute_command\u001b[0;34m(self, *args, **kwargs)\u001b[0m\n\u001b[1;32m   1112\u001b[0m     \u001b[39mcontinue\u001b[39;00m\n\u001b[1;32m   1113\u001b[0m \u001b[39melse\u001b[39;00m:\n\u001b[1;32m   1114\u001b[0m     \u001b[39m# raise the exception\u001b[39;00m\n\u001b[0;32m-> 1115\u001b[0m     \u001b[39mraise\u001b[39;00m e\n",
      "File \u001b[0;32m~/Library/Python/3.9/lib/python/site-packages/redis/cluster.py:1101\u001b[0m, in \u001b[0;36mRedisCluster.execute_command\u001b[0;34m(self, *args, **kwargs)\u001b[0m\n\u001b[1;32m   1099\u001b[0m         is_default_node \u001b[39m=\u001b[39m \u001b[39mTrue\u001b[39;00m\n\u001b[1;32m   1100\u001b[0m \u001b[39mfor\u001b[39;00m node \u001b[39min\u001b[39;00m target_nodes:\n\u001b[0;32m-> 1101\u001b[0m     res[node\u001b[39m.\u001b[39mname] \u001b[39m=\u001b[39m \u001b[39mself\u001b[39;49m\u001b[39m.\u001b[39;49m_execute_command(node, \u001b[39m*\u001b[39;49margs, \u001b[39m*\u001b[39;49m\u001b[39m*\u001b[39;49mkwargs)\n\u001b[1;32m   1102\u001b[0m \u001b[39m# Return the processed result\u001b[39;00m\n\u001b[1;32m   1103\u001b[0m \u001b[39mreturn\u001b[39;00m \u001b[39mself\u001b[39m\u001b[39m.\u001b[39m_process_result(args[\u001b[39m0\u001b[39m], res, \u001b[39m*\u001b[39m\u001b[39m*\u001b[39mkwargs)\n",
      "File \u001b[0;32m~/Library/Python/3.9/lib/python/site-packages/redis/cluster.py:1174\u001b[0m, in \u001b[0;36mRedisCluster._execute_command\u001b[0;34m(self, target_node, *args, **kwargs)\u001b[0m\n\u001b[1;32m   1172\u001b[0m     target_node\u001b[39m.\u001b[39mredis_connection \u001b[39m=\u001b[39m \u001b[39mNone\u001b[39;00m\n\u001b[1;32m   1173\u001b[0m     \u001b[39mself\u001b[39m\u001b[39m.\u001b[39mnodes_manager\u001b[39m.\u001b[39minitialize()\n\u001b[0;32m-> 1174\u001b[0m     \u001b[39mraise\u001b[39;00m e\n\u001b[1;32m   1175\u001b[0m \u001b[39mexcept\u001b[39;00m MovedError \u001b[39mas\u001b[39;00m e:\n\u001b[1;32m   1176\u001b[0m     \u001b[39m# First, we will try to patch the slots/nodes cache with the\u001b[39;00m\n\u001b[1;32m   1177\u001b[0m     \u001b[39m# redirected node output and try again. If MovedError exceeds\u001b[39;00m\n\u001b[0;32m   (...)\u001b[0m\n\u001b[1;32m   1182\u001b[0m     \u001b[39m# reduce the frequency you can set this variable in the\u001b[39;00m\n\u001b[1;32m   1183\u001b[0m     \u001b[39m# RedisCluster constructor.\u001b[39;00m\n\u001b[1;32m   1184\u001b[0m     \u001b[39mself\u001b[39m\u001b[39m.\u001b[39mreinitialize_counter \u001b[39m+\u001b[39m\u001b[39m=\u001b[39m \u001b[39m1\u001b[39m\n",
      "File \u001b[0;32m~/Library/Python/3.9/lib/python/site-packages/redis/cluster.py:1144\u001b[0m, in \u001b[0;36mRedisCluster._execute_command\u001b[0;34m(self, target_node, *args, **kwargs)\u001b[0m\n\u001b[1;32m   1141\u001b[0m     moved \u001b[39m=\u001b[39m \u001b[39mFalse\u001b[39;00m\n\u001b[1;32m   1143\u001b[0m redis_node \u001b[39m=\u001b[39m \u001b[39mself\u001b[39m\u001b[39m.\u001b[39mget_redis_connection(target_node)\n\u001b[0;32m-> 1144\u001b[0m connection \u001b[39m=\u001b[39m get_connection(redis_node, \u001b[39m*\u001b[39;49margs, \u001b[39m*\u001b[39;49m\u001b[39m*\u001b[39;49mkwargs)\n\u001b[1;32m   1145\u001b[0m \u001b[39mif\u001b[39;00m asking:\n\u001b[1;32m   1146\u001b[0m     connection\u001b[39m.\u001b[39msend_command(\u001b[39m\"\u001b[39m\u001b[39mASKING\u001b[39m\u001b[39m\"\u001b[39m)\n",
      "File \u001b[0;32m~/Library/Python/3.9/lib/python/site-packages/redis/cluster.py:51\u001b[0m, in \u001b[0;36mget_connection\u001b[0;34m(redis_node, *args, **options)\u001b[0m\n\u001b[1;32m     50\u001b[0m \u001b[39mdef\u001b[39;00m \u001b[39mget_connection\u001b[39m(redis_node, \u001b[39m*\u001b[39margs, \u001b[39m*\u001b[39m\u001b[39m*\u001b[39moptions):\n\u001b[0;32m---> 51\u001b[0m     \u001b[39mreturn\u001b[39;00m redis_node\u001b[39m.\u001b[39mconnection \u001b[39mor\u001b[39;00m redis_node\u001b[39m.\u001b[39;49mconnection_pool\u001b[39m.\u001b[39;49mget_connection(\n\u001b[1;32m     52\u001b[0m         args[\u001b[39m0\u001b[39;49m], \u001b[39m*\u001b[39;49m\u001b[39m*\u001b[39;49moptions\n\u001b[1;32m     53\u001b[0m     )\n",
      "File \u001b[0;32m~/Library/Python/3.9/lib/python/site-packages/redis/connection.py:1104\u001b[0m, in \u001b[0;36mConnectionPool.get_connection\u001b[0;34m(self, command_name, *keys, **options)\u001b[0m\n\u001b[1;32m   1100\u001b[0m     \u001b[39mself\u001b[39m\u001b[39m.\u001b[39m_in_use_connections\u001b[39m.\u001b[39madd(connection)\n\u001b[1;32m   1102\u001b[0m \u001b[39mtry\u001b[39;00m:\n\u001b[1;32m   1103\u001b[0m     \u001b[39m# ensure this connection is connected to Redis\u001b[39;00m\n\u001b[0;32m-> 1104\u001b[0m     connection\u001b[39m.\u001b[39;49mconnect()\n\u001b[1;32m   1105\u001b[0m     \u001b[39m# connections that the pool provides should be ready to send\u001b[39;00m\n\u001b[1;32m   1106\u001b[0m     \u001b[39m# a command. if not, the connection was either returned to the\u001b[39;00m\n\u001b[1;32m   1107\u001b[0m     \u001b[39m# pool before all data has been read or the socket has been\u001b[39;00m\n\u001b[1;32m   1108\u001b[0m     \u001b[39m# closed. either way, reconnect and verify everything is good.\u001b[39;00m\n\u001b[1;32m   1109\u001b[0m     \u001b[39mtry\u001b[39;00m:\n",
      "File \u001b[0;32m~/Library/Python/3.9/lib/python/site-packages/redis/connection.py:291\u001b[0m, in \u001b[0;36mAbstractConnection.connect\u001b[0;34m(self)\u001b[0m\n\u001b[1;32m    288\u001b[0m         \u001b[39mself\u001b[39m\u001b[39m.\u001b[39mon_connect()\n\u001b[1;32m    289\u001b[0m     \u001b[39melse\u001b[39;00m:\n\u001b[1;32m    290\u001b[0m         \u001b[39m# Use the passed function redis_connect_func\u001b[39;00m\n\u001b[0;32m--> 291\u001b[0m         \u001b[39mself\u001b[39;49m\u001b[39m.\u001b[39;49mredis_connect_func(\u001b[39mself\u001b[39;49m)\n\u001b[1;32m    292\u001b[0m \u001b[39mexcept\u001b[39;00m RedisError:\n\u001b[1;32m    293\u001b[0m     \u001b[39m# clean up after any error in on_connect\u001b[39;00m\n\u001b[1;32m    294\u001b[0m     \u001b[39mself\u001b[39m\u001b[39m.\u001b[39mdisconnect()\n",
      "File \u001b[0;32m~/Library/Python/3.9/lib/python/site-packages/redis/cluster.py:672\u001b[0m, in \u001b[0;36mRedisCluster.on_connect\u001b[0;34m(self, connection)\u001b[0m\n\u001b[1;32m    667\u001b[0m \u001b[39m\u001b[39m\u001b[39m\"\"\"\u001b[39;00m\n\u001b[1;32m    668\u001b[0m \u001b[39mInitialize the connection, authenticate and select a database and send\u001b[39;00m\n\u001b[1;32m    669\u001b[0m \u001b[39m READONLY if it is set during object initialization.\u001b[39;00m\n\u001b[1;32m    670\u001b[0m \u001b[39m\"\"\"\u001b[39;00m\n\u001b[1;32m    671\u001b[0m connection\u001b[39m.\u001b[39mset_parser(ClusterParser)\n\u001b[0;32m--> 672\u001b[0m connection\u001b[39m.\u001b[39;49mon_connect()\n\u001b[1;32m    674\u001b[0m \u001b[39mif\u001b[39;00m \u001b[39mself\u001b[39m\u001b[39m.\u001b[39mread_from_replicas:\n\u001b[1;32m    675\u001b[0m     \u001b[39m# Sending READONLY command to server to configure connection as\u001b[39;00m\n\u001b[1;32m    676\u001b[0m     \u001b[39m# readonly. Since each cluster node may change its server type due\u001b[39;00m\n\u001b[1;32m    677\u001b[0m     \u001b[39m# to a failover, we should establish a READONLY connection\u001b[39;00m\n\u001b[1;32m    678\u001b[0m     \u001b[39m# regardless of the server type. If this is a primary connection,\u001b[39;00m\n\u001b[1;32m    679\u001b[0m     \u001b[39m# READONLY would not affect executing write commands.\u001b[39;00m\n\u001b[1;32m    680\u001b[0m     connection\u001b[39m.\u001b[39msend_command(\u001b[39m\"\u001b[39m\u001b[39mREADONLY\u001b[39m\u001b[39m\"\u001b[39m)\n",
      "File \u001b[0;32m~/Library/Python/3.9/lib/python/site-packages/redis/connection.py:354\u001b[0m, in \u001b[0;36mAbstractConnection.on_connect\u001b[0;34m(self)\u001b[0m\n\u001b[1;32m    351\u001b[0m \u001b[39mself\u001b[39m\u001b[39m.\u001b[39msend_command(\u001b[39m\"\u001b[39m\u001b[39mAUTH\u001b[39m\u001b[39m\"\u001b[39m, \u001b[39m*\u001b[39mauth_args, check_health\u001b[39m=\u001b[39m\u001b[39mFalse\u001b[39;00m)\n\u001b[1;32m    353\u001b[0m \u001b[39mtry\u001b[39;00m:\n\u001b[0;32m--> 354\u001b[0m     auth_response \u001b[39m=\u001b[39m \u001b[39mself\u001b[39;49m\u001b[39m.\u001b[39;49mread_response()\n\u001b[1;32m    355\u001b[0m \u001b[39mexcept\u001b[39;00m AuthenticationWrongNumberOfArgsError:\n\u001b[1;32m    356\u001b[0m     \u001b[39m# a username and password were specified but the Redis\u001b[39;00m\n\u001b[1;32m    357\u001b[0m     \u001b[39m# server seems to be < 6.0.0 which expects a single password\u001b[39;00m\n\u001b[1;32m    358\u001b[0m     \u001b[39m# arg. retry auth with just the password.\u001b[39;00m\n\u001b[1;32m    359\u001b[0m     \u001b[39m# https://github.com/andymccurdy/redis-py/issues/1274\u001b[39;00m\n\u001b[1;32m    360\u001b[0m     \u001b[39mself\u001b[39m\u001b[39m.\u001b[39msend_command(\u001b[39m\"\u001b[39m\u001b[39mAUTH\u001b[39m\u001b[39m\"\u001b[39m, auth_args[\u001b[39m-\u001b[39m\u001b[39m1\u001b[39m], check_health\u001b[39m=\u001b[39m\u001b[39mFalse\u001b[39;00m)\n",
      "File \u001b[0;32m~/Library/Python/3.9/lib/python/site-packages/redis/connection.py:512\u001b[0m, in \u001b[0;36mAbstractConnection.read_response\u001b[0;34m(self, disable_decoding, disconnect_on_error, push_request)\u001b[0m\n\u001b[1;32m    508\u001b[0m         response \u001b[39m=\u001b[39m \u001b[39mself\u001b[39m\u001b[39m.\u001b[39m_parser\u001b[39m.\u001b[39mread_response(\n\u001b[1;32m    509\u001b[0m             disable_decoding\u001b[39m=\u001b[39mdisable_decoding, push_request\u001b[39m=\u001b[39mpush_request\n\u001b[1;32m    510\u001b[0m         )\n\u001b[1;32m    511\u001b[0m     \u001b[39melse\u001b[39;00m:\n\u001b[0;32m--> 512\u001b[0m         response \u001b[39m=\u001b[39m \u001b[39mself\u001b[39;49m\u001b[39m.\u001b[39;49m_parser\u001b[39m.\u001b[39;49mread_response(disable_decoding\u001b[39m=\u001b[39;49mdisable_decoding)\n\u001b[1;32m    513\u001b[0m \u001b[39mexcept\u001b[39;00m socket\u001b[39m.\u001b[39mtimeout:\n\u001b[1;32m    514\u001b[0m     \u001b[39mif\u001b[39;00m disconnect_on_error:\n",
      "File \u001b[0;32m~/Library/Python/3.9/lib/python/site-packages/redis/_parsers/resp2.py:15\u001b[0m, in \u001b[0;36m_RESP2Parser.read_response\u001b[0;34m(self, disable_decoding)\u001b[0m\n\u001b[1;32m     13\u001b[0m pos \u001b[39m=\u001b[39m \u001b[39mself\u001b[39m\u001b[39m.\u001b[39m_buffer\u001b[39m.\u001b[39mget_pos() \u001b[39mif\u001b[39;00m \u001b[39mself\u001b[39m\u001b[39m.\u001b[39m_buffer \u001b[39melse\u001b[39;00m \u001b[39mNone\u001b[39;00m\n\u001b[1;32m     14\u001b[0m \u001b[39mtry\u001b[39;00m:\n\u001b[0;32m---> 15\u001b[0m     result \u001b[39m=\u001b[39m \u001b[39mself\u001b[39;49m\u001b[39m.\u001b[39;49m_read_response(disable_decoding\u001b[39m=\u001b[39;49mdisable_decoding)\n\u001b[1;32m     16\u001b[0m \u001b[39mexcept\u001b[39;00m \u001b[39mBaseException\u001b[39;00m:\n\u001b[1;32m     17\u001b[0m     \u001b[39mif\u001b[39;00m \u001b[39mself\u001b[39m\u001b[39m.\u001b[39m_buffer:\n",
      "File \u001b[0;32m~/Library/Python/3.9/lib/python/site-packages/redis/_parsers/resp2.py:25\u001b[0m, in \u001b[0;36m_RESP2Parser._read_response\u001b[0;34m(self, disable_decoding)\u001b[0m\n\u001b[1;32m     24\u001b[0m \u001b[39mdef\u001b[39;00m \u001b[39m_read_response\u001b[39m(\u001b[39mself\u001b[39m, disable_decoding\u001b[39m=\u001b[39m\u001b[39mFalse\u001b[39;00m):\n\u001b[0;32m---> 25\u001b[0m     raw \u001b[39m=\u001b[39m \u001b[39mself\u001b[39;49m\u001b[39m.\u001b[39;49m_buffer\u001b[39m.\u001b[39;49mreadline()\n\u001b[1;32m     26\u001b[0m     \u001b[39mif\u001b[39;00m \u001b[39mnot\u001b[39;00m raw:\n\u001b[1;32m     27\u001b[0m         \u001b[39mraise\u001b[39;00m \u001b[39mConnectionError\u001b[39;00m(SERVER_CLOSED_CONNECTION_ERROR)\n",
      "File \u001b[0;32m~/Library/Python/3.9/lib/python/site-packages/redis/_parsers/socket.py:115\u001b[0m, in \u001b[0;36mSocketBuffer.readline\u001b[0;34m(self)\u001b[0m\n\u001b[1;32m    112\u001b[0m data \u001b[39m=\u001b[39m buf\u001b[39m.\u001b[39mreadline()\n\u001b[1;32m    113\u001b[0m \u001b[39mwhile\u001b[39;00m \u001b[39mnot\u001b[39;00m data\u001b[39m.\u001b[39mendswith(SYM_CRLF):\n\u001b[1;32m    114\u001b[0m     \u001b[39m# there's more data in the socket that we need\u001b[39;00m\n\u001b[0;32m--> 115\u001b[0m     \u001b[39mself\u001b[39;49m\u001b[39m.\u001b[39;49m_read_from_socket()\n\u001b[1;32m    116\u001b[0m     data \u001b[39m+\u001b[39m\u001b[39m=\u001b[39m buf\u001b[39m.\u001b[39mreadline()\n\u001b[1;32m    118\u001b[0m \u001b[39mreturn\u001b[39;00m data[:\u001b[39m-\u001b[39m\u001b[39m2\u001b[39m]\n",
      "File \u001b[0;32m~/Library/Python/3.9/lib/python/site-packages/redis/_parsers/socket.py:68\u001b[0m, in \u001b[0;36mSocketBuffer._read_from_socket\u001b[0;34m(self, length, timeout, raise_on_timeout)\u001b[0m\n\u001b[1;32m     66\u001b[0m \u001b[39m# an empty string indicates the server shutdown the socket\u001b[39;00m\n\u001b[1;32m     67\u001b[0m \u001b[39mif\u001b[39;00m \u001b[39misinstance\u001b[39m(data, \u001b[39mbytes\u001b[39m) \u001b[39mand\u001b[39;00m \u001b[39mlen\u001b[39m(data) \u001b[39m==\u001b[39m \u001b[39m0\u001b[39m:\n\u001b[0;32m---> 68\u001b[0m     \u001b[39mraise\u001b[39;00m \u001b[39mConnectionError\u001b[39;00m(SERVER_CLOSED_CONNECTION_ERROR)\n\u001b[1;32m     69\u001b[0m buf\u001b[39m.\u001b[39mwrite(data)\n\u001b[1;32m     70\u001b[0m data_length \u001b[39m=\u001b[39m \u001b[39mlen\u001b[39m(data)\n",
      "\u001b[0;31mConnectionError\u001b[0m: Connection closed by server."
     ]
    }
   ],
   "source": [
    "rc = RedisCluster(host=\"localhost\", port=9000, username=\"default\", password=\"admin\")"
   ]
  },
  {
   "cell_type": "code",
   "execution_count": 7,
   "metadata": {},
   "outputs": [
    {
     "ename": "AttributeError",
     "evalue": "'RedisCluster' object has no attribute 'get_nodes'",
     "output_type": "error",
     "traceback": [
      "\u001b[0;31m---------------------------------------------------------------------------\u001b[0m",
      "\u001b[0;31mAttributeError\u001b[0m                            Traceback (most recent call last)",
      "\u001b[1;32m/Users/agarkov/sbt-db/hw2-redis/redis_cluster.ipynb Cell 5\u001b[0m line \u001b[0;36m1\n\u001b[0;32m----> <a href='vscode-notebook-cell:/Users/agarkov/sbt-db/hw2-redis/redis_cluster.ipynb#X16sZmlsZQ%3D%3D?line=0'>1</a>\u001b[0m \u001b[39mprint\u001b[39m(rc\u001b[39m.\u001b[39;49mget_nodes())\n",
      "\u001b[0;31mAttributeError\u001b[0m: 'RedisCluster' object has no attribute 'get_nodes'"
     ]
    }
   ],
   "source": [
    "print(rc.get_nodes())"
   ]
  },
  {
   "cell_type": "code",
   "execution_count": 27,
   "metadata": {},
   "outputs": [
    {
     "data": {
      "text/plain": [
       "{'id': '2489651045',\n",
       " 'type': 'CreateEvent',\n",
       " 'actor': {'id': 665991,\n",
       "  'login': 'petroav',\n",
       "  'gravatar_id': '',\n",
       "  'url': 'https://api.github.com/users/petroav',\n",
       "  'avatar_url': 'https://avatars.githubusercontent.com/u/665991?'},\n",
       " 'repo': {'id': 28688495,\n",
       "  'name': 'petroav/6.828',\n",
       "  'url': 'https://api.github.com/repos/petroav/6.828'},\n",
       " 'payload': {'ref': 'master',\n",
       "  'ref_type': 'branch',\n",
       "  'master_branch': 'master',\n",
       "  'description': \"Solution to homework and assignments from MIT's 6.828 (Operating Systems Engineering). Done in my spare time.\",\n",
       "  'pusher_type': 'user'},\n",
       " 'public': True,\n",
       " 'created_at': '2015-01-01T15:00:00Z'}"
      ]
     },
     "execution_count": 27,
     "metadata": {},
     "output_type": "execute_result"
    }
   ],
   "source": [
    "with open(\"large-file.json\") as f:\n",
    "    data = json.load(f)\n",
    "\n",
    "data[0]"
   ]
  },
  {
   "cell_type": "code",
   "execution_count": 28,
   "metadata": {},
   "outputs": [],
   "source": [
    "str_mapping_keys = []\n",
    "for key in data[0].keys():\n",
    "    if isinstance(data[0][key], str):\n",
    "        str_mapping_keys.append(key)\n",
    "\n",
    "dict_mapping_keys = []\n",
    "for key in data[0].keys():\n",
    "    if isinstance(data[0][key], dict):\n",
    "        dict_mapping_keys.append(key)\n",
    "\n",
    "str_data = []\n",
    "for i in range(len(data)):\n",
    "    cur_elem = {}\n",
    "    for key in str_mapping_keys:\n",
    "        cur_elem[key] = data[i][key]\n",
    "    str_data.append(cur_elem)\n",
    "\n",
    "int_data = []\n",
    "for i in range(len(data)):\n",
    "    cur_elem = {}\n",
    "    cur_elem[\"id\"] = data[i][\"id\"]\n",
    "    int_data.append(cur_elem)\n"
   ]
  },
  {
   "cell_type": "markdown",
   "metadata": {},
   "source": [
    "### hset init, hset and hget"
   ]
  },
  {
   "cell_type": "code",
   "execution_count": 33,
   "metadata": {},
   "outputs": [
    {
     "ename": "ClusterError",
     "evalue": "TTL exhausted.",
     "output_type": "error",
     "traceback": [
      "\u001b[0;31m---------------------------------------------------------------------------\u001b[0m",
      "\u001b[0;31mClusterError\u001b[0m                              Traceback (most recent call last)",
      "\u001b[1;32m/Users/agarkov/sbt-db/hw2-redis/redis_cluster.ipynb Cell 7\u001b[0m line \u001b[0;36m1\n\u001b[0;32m----> <a href='vscode-notebook-cell:/Users/agarkov/sbt-db/hw2-redis/redis_cluster.ipynb#X14sZmlsZQ%3D%3D?line=0'>1</a>\u001b[0m [rc\u001b[39m.\u001b[39;49mhset(\u001b[39mf\u001b[39;49m\u001b[39m\"\u001b[39;49m\u001b[39mid:\u001b[39;49m\u001b[39m{\u001b[39;49;00mi\u001b[39m}\u001b[39;49;00m\u001b[39m\"\u001b[39;49m, mapping\u001b[39m=\u001b[39;49mstr_data[i]) \u001b[39mfor\u001b[39;49;00m i \u001b[39min\u001b[39;49;00m \u001b[39mrange\u001b[39;49m(\u001b[39m1\u001b[39;49m)]\n",
      "\u001b[1;32m/Users/agarkov/sbt-db/hw2-redis/redis_cluster.ipynb Cell 7\u001b[0m line \u001b[0;36m1\n\u001b[0;32m----> <a href='vscode-notebook-cell:/Users/agarkov/sbt-db/hw2-redis/redis_cluster.ipynb#X14sZmlsZQ%3D%3D?line=0'>1</a>\u001b[0m [rc\u001b[39m.\u001b[39;49mhset(\u001b[39mf\u001b[39;49m\u001b[39m\"\u001b[39;49m\u001b[39mid:\u001b[39;49m\u001b[39m{\u001b[39;49;00mi\u001b[39m}\u001b[39;49;00m\u001b[39m\"\u001b[39;49m, mapping\u001b[39m=\u001b[39;49mstr_data[i]) \u001b[39mfor\u001b[39;00m i \u001b[39min\u001b[39;00m \u001b[39mrange\u001b[39m(\u001b[39m1\u001b[39m)]\n",
      "File \u001b[0;32m/Library/Frameworks/Python.framework/Versions/3.11/lib/python3.11/site-packages/redis/client.py:3050\u001b[0m, in \u001b[0;36mhset\u001b[0;34m(self, name, key, value, mapping)\u001b[0m\n\u001b[1;32m      0\u001b[0m <Error retrieving source code with stack_data see ipython/ipython#13598>\n",
      "File \u001b[0;32m/Library/Frameworks/Python.framework/Versions/3.11/lib/python3.11/site-packages/rediscluster/client.py:555\u001b[0m, in \u001b[0;36mRedisCluster.execute_command\u001b[0;34m(self, *args, **kwargs)\u001b[0m\n\u001b[1;32m    553\u001b[0m \u001b[39mfor\u001b[39;00m _ \u001b[39min\u001b[39;00m \u001b[39mrange\u001b[39m(\u001b[39m0\u001b[39m, \u001b[39mself\u001b[39m\u001b[39m.\u001b[39mcluster_down_retry_attempts):\n\u001b[1;32m    554\u001b[0m     \u001b[39mtry\u001b[39;00m:\n\u001b[0;32m--> 555\u001b[0m         \u001b[39mreturn\u001b[39;00m \u001b[39mself\u001b[39;49m\u001b[39m.\u001b[39;49m_execute_command(\u001b[39m*\u001b[39;49margs, \u001b[39m*\u001b[39;49m\u001b[39m*\u001b[39;49mkwargs)\n\u001b[1;32m    556\u001b[0m     \u001b[39mexcept\u001b[39;00m ClusterDownError:\n\u001b[1;32m    557\u001b[0m         \u001b[39m# Try again with the new cluster setup. All other errors\u001b[39;00m\n\u001b[1;32m    558\u001b[0m         \u001b[39m# should be raised.\u001b[39;00m\n\u001b[1;32m    559\u001b[0m         \u001b[39mpass\u001b[39;00m\n",
      "File \u001b[0;32m/Library/Frameworks/Python.framework/Versions/3.11/lib/python3.11/site-packages/rediscluster/client.py:721\u001b[0m, in \u001b[0;36mRedisCluster._execute_command\u001b[0;34m(self, *args, **kwargs)\u001b[0m\n\u001b[1;32m    717\u001b[0m             \u001b[39mself\u001b[39m\u001b[39m.\u001b[39mconnection_pool\u001b[39m.\u001b[39mrelease(connection)\n\u001b[1;32m    719\u001b[0m     log\u001b[39m.\u001b[39mdebug(\u001b[39m\"\u001b[39m\u001b[39mTTL loop : \u001b[39m\u001b[39m\"\u001b[39m \u001b[39m+\u001b[39m \u001b[39mstr\u001b[39m(ttl))\n\u001b[0;32m--> 721\u001b[0m \u001b[39mraise\u001b[39;00m ClusterError(\u001b[39m'\u001b[39m\u001b[39mTTL exhausted.\u001b[39m\u001b[39m'\u001b[39m)\n",
      "\u001b[0;31mClusterError\u001b[0m: TTL exhausted."
     ]
    }
   ],
   "source": [
    "[rc.hset(f\"id:{i}\", mapping=str_data[i]) for i in range(len(data))]"
   ]
  }
 ],
 "metadata": {
  "kernelspec": {
   "display_name": "Python 3 (ipykernel)",
   "language": "python",
   "name": "python3"
  },
  "language_info": {
   "codemirror_mode": {
    "name": "ipython",
    "version": 3
   },
   "file_extension": ".py",
   "mimetype": "text/x-python",
   "name": "python",
   "nbconvert_exporter": "python",
   "pygments_lexer": "ipython3",
   "version": "3.9.6"
  }
 },
 "nbformat": 4,
 "nbformat_minor": 5
}
